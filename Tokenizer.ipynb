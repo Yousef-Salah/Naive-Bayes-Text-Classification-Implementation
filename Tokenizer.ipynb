{
 "cells": [
  {
   "cell_type": "code",
   "execution_count": 5,
   "id": "672335f4",
   "metadata": {
    "scrolled": true
   },
   "outputs": [],
   "source": [
    "# !pip install tokenizers"
   ]
  },
  {
   "cell_type": "code",
   "execution_count": 45,
   "id": "6bed1717",
   "metadata": {},
   "outputs": [
    {
     "data": {
      "text/plain": [
       "<tokenizers.Tokenizer at 0x204db97c750>"
      ]
     },
     "execution_count": 45,
     "metadata": {},
     "output_type": "execute_result"
    }
   ],
   "source": [
    "from tokenizers import Tokenizer\n",
    "from tokenizers.models import Unigram\n",
    "\n",
    "tokenizer = Tokenizer(Unigram())\n",
    "tokenizer"
   ]
  },
  {
   "cell_type": "code",
   "execution_count": 46,
   "id": "e9b86b88",
   "metadata": {},
   "outputs": [
    {
     "name": "stdout",
     "output_type": "stream",
     "text": [
      "[\"Hello, y'all! How are you 😁 ?\"]\n"
     ]
    }
   ],
   "source": [
    "output = tokenizer.encode(\"Hello, y'all! How are you 😁 ?\")\n",
    "print(output.tokens)"
   ]
  },
  {
   "cell_type": "code",
   "execution_count": 47,
   "id": "105ed7e5",
   "metadata": {},
   "outputs": [
    {
     "data": {
      "text/plain": [
       "['acq',\n",
       " 'alum',\n",
       " 'barley',\n",
       " 'bop',\n",
       " 'carcass',\n",
       " 'castor-oil',\n",
       " 'cocoa',\n",
       " 'coconut',\n",
       " 'coconut-oil',\n",
       " 'coffee',\n",
       " 'copper',\n",
       " 'copra-cake',\n",
       " 'corn',\n",
       " 'cotton',\n",
       " 'cotton-oil',\n",
       " 'cpi',\n",
       " 'cpu',\n",
       " 'crude',\n",
       " 'dfl',\n",
       " 'dlr',\n",
       " 'dmk',\n",
       " 'earn',\n",
       " 'fuel',\n",
       " 'gas',\n",
       " 'gnp',\n",
       " 'gold',\n",
       " 'grain',\n",
       " 'groundnut',\n",
       " 'groundnut-oil',\n",
       " 'heat',\n",
       " 'hog',\n",
       " 'housing',\n",
       " 'income',\n",
       " 'instal-debt',\n",
       " 'interest',\n",
       " 'ipi',\n",
       " 'iron-steel',\n",
       " 'jet',\n",
       " 'jobs',\n",
       " 'l-cattle',\n",
       " 'lead',\n",
       " 'lei',\n",
       " 'lin-oil',\n",
       " 'livestock',\n",
       " 'lumber',\n",
       " 'meal-feed',\n",
       " 'money-fx',\n",
       " 'money-supply',\n",
       " 'naphtha',\n",
       " 'nat-gas',\n",
       " 'nickel',\n",
       " 'nkr',\n",
       " 'nzdlr',\n",
       " 'oat',\n",
       " 'oilseed',\n",
       " 'orange',\n",
       " 'palladium',\n",
       " 'palm-oil',\n",
       " 'palmkernel',\n",
       " 'pet-chem',\n",
       " 'platinum',\n",
       " 'potato',\n",
       " 'propane',\n",
       " 'rand',\n",
       " 'rape-oil',\n",
       " 'rapeseed',\n",
       " 'reserves',\n",
       " 'retail',\n",
       " 'rice',\n",
       " 'rubber',\n",
       " 'rye',\n",
       " 'ship',\n",
       " 'silver',\n",
       " 'sorghum',\n",
       " 'soy-meal',\n",
       " 'soy-oil',\n",
       " 'soybean',\n",
       " 'strategic-metal',\n",
       " 'sugar',\n",
       " 'sun-meal',\n",
       " 'sun-oil',\n",
       " 'sunseed',\n",
       " 'tea',\n",
       " 'tin',\n",
       " 'trade',\n",
       " 'unknown',\n",
       " 'veg-oil',\n",
       " 'wheat',\n",
       " 'wpi',\n",
       " 'yen',\n",
       " 'zinc']"
      ]
     },
     "execution_count": 47,
     "metadata": {},
     "output_type": "execute_result"
    }
   ],
   "source": [
    "import os\n",
    "\n",
    "os.listdir('training')"
   ]
  },
  {
   "cell_type": "markdown",
   "id": "a1ff6b04",
   "metadata": {},
   "source": [
    "### Radmonly select 10 docs for each class, to build a training set for tokenizer"
   ]
  },
  {
   "cell_type": "code",
   "execution_count": 48,
   "id": "602f5d54",
   "metadata": {},
   "outputs": [],
   "source": [
    "import re\n",
    "\n",
    "def process_file_content(content: str) -> str:\n",
    "    content = re.sub(' +', ' ', content)\n",
    "    content = content.replace('\\n', '')\n",
    "    return content\n",
    "    "
   ]
  },
  {
   "cell_type": "code",
   "execution_count": 49,
   "id": "62788748",
   "metadata": {},
   "outputs": [],
   "source": [
    "def load_files_texts(base_relative_path: str, files: list[str]) -> list[str]:\n",
    "    docs_content = []\n",
    "    for file in files:\n",
    "        with open(f\"{base_relative_path}/{file}\", 'r') as f:\n",
    "            content = process_file_content(f.read())\n",
    "            \n",
    "            docs_content.append(content)\n",
    "            \n",
    "    return docs_content\n",
    "    "
   ]
  },
  {
   "cell_type": "code",
   "execution_count": 50,
   "id": "fe614129",
   "metadata": {},
   "outputs": [],
   "source": [
    "from typing import Tuple\n",
    "\n",
    "def split_into_twe_sets(files: list, splitting_rate: float = 0.9) -> Tuple[list, list]:\n",
    "    # selected_files = random.sample(files, int(len(files) * splitting_rate))\n",
    "    index = int(len(files) * splitting_rate)\n",
    "    return files[:index], files[index:]\n",
    "\n",
    "    "
   ]
  },
  {
   "cell_type": "code",
   "execution_count": 51,
   "id": "0e7ff573",
   "metadata": {
    "scrolled": false
   },
   "outputs": [
    {
     "name": "stdout",
     "output_type": "stream",
     "text": [
      "10227\n"
     ]
    }
   ],
   "source": [
    "import random\n",
    "\n",
    "learning_percent = 0.9\n",
    "training_docs = []\n",
    "testing_docs = []\n",
    "\n",
    "# TODO: refoactor to generators\n",
    "for folder in os.listdir('training'):\n",
    "    files = os.listdir(f\"training/{folder}\")\n",
    "    files = list(map(lambda x: f\"training/{folder}/{x}\", files))\n",
    "\n",
    "    training, testing = split_into_twe_sets(files, learning_percent)\n",
    "\n",
    "    training_docs.extend(training)\n",
    "    testing_docs.extend(testing)\n",
    "\n",
    "print(len(training_docs))"
   ]
  },
  {
   "cell_type": "code",
   "execution_count": 52,
   "id": "700cd275",
   "metadata": {},
   "outputs": [],
   "source": [
    "from tokenizers import Tokenizer, normalizers, AddedToken, pre_tokenizers\n",
    "from tokenizers.normalizers import NFD, StripAccents, Lowercase, Strip, Replace\n",
    "from tokenizers.pre_tokenizers import Whitespace, Split, Punctuation, Digits\n",
    "from tokenizers.trainers import UnigramTrainer"
   ]
  },
  {
   "cell_type": "code",
   "execution_count": 95,
   "id": "f1ceae53",
   "metadata": {},
   "outputs": [
    {
     "name": "stdout",
     "output_type": "stream",
     "text": [
      "training/acq/0000005\n"
     ]
    }
   ],
   "source": [
    "digits_replacer = Replace(\"\\d{1,}\", \"\")\n",
    "new_lines_replacer = Replace(\"\\n\", \" \")\n",
    "\n",
    "pre_tokenizer = pre_tokenizers.Sequence([\n",
    "    Whitespace(),\n",
    "    Punctuation(),\n",
    "    Digits()\n",
    "])\n",
    "\n",
    "normalizer = normalizers.Sequence([\n",
    "    digits_replacer,\n",
    "    NFD(), \n",
    "    StripAccents(), \n",
    "    Lowercase(), \n",
    "    Strip(), \n",
    "    new_lines_replacer,\n",
    "])\n",
    "\n",
    "special_tokens = [\n",
    "    \"[PAD]\",\n",
    "    \"[UNK]\",\n",
    "    \"[CLS]\",\n",
    "    \"[SEP]\",\n",
    "    \"[MASK]\",\n",
    "]\n",
    "\n",
    "trainer = UnigramTrainer(special_tokens=special_tokens, show_progress=True)\n",
    "\n",
    "tokenizer.normalizer = normalizer\n",
    "tokenizer.pre_tokenizer = pre_tokenizer\n",
    "print(training_docs[0])"
   ]
  },
  {
   "cell_type": "code",
   "execution_count": 96,
   "id": "fc34459d",
   "metadata": {},
   "outputs": [],
   "source": [
    "tokenizer.train(files=training_docs, trainer=trainer)"
   ]
  },
  {
   "cell_type": "code",
   "execution_count": 101,
   "id": "5a2fd5f6",
   "metadata": {},
   "outputs": [],
   "source": [
    "tokenizer.save(\"unigram_tokenizer.json\")"
   ]
  },
  {
   "cell_type": "code",
   "execution_count": 98,
   "id": "5c2d34e0",
   "metadata": {
    "scrolled": false
   },
   "outputs": [
    {
     "data": {
      "text/plain": [
       "['in', 'the', 'beginn', 'ing', 'of', 'm', 'y', 'work', 'ing', 'process']"
      ]
     },
     "execution_count": 98,
     "metadata": {},
     "output_type": "execute_result"
    }
   ],
   "source": [
    "tokenizer.encode(\"\"\"\n",
    "\n",
    "in the beginning of my working process\n",
    "\n",
    "\"\"\").tokens"
   ]
  },
  {
   "cell_type": "code",
   "execution_count": 99,
   "id": "d52777c6",
   "metadata": {},
   "outputs": [
    {
     "name": "stdout",
     "output_type": "stream",
     "text": [
      "Help on built-in function train:\n",
      "\n",
      "train(self, files, trainer=None) method of tokenizers.Tokenizer instance\n",
      "    Train the Tokenizer using the given files.\n",
      "    \n",
      "    Reads the files line by line, while keeping all the whitespace, even new lines.\n",
      "    If you want to train from data store in-memory, you can check\n",
      "    :meth:`~tokenizers.Tokenizer.train_from_iterator`\n",
      "    \n",
      "    Args:\n",
      "        files (:obj:`List[str]`):\n",
      "            A list of path to the files that we should use for training\n",
      "    \n",
      "        trainer (:obj:`~tokenizers.trainers.Trainer`, `optional`):\n",
      "            An optional trainer that should be used to train our Model\n",
      "\n"
     ]
    }
   ],
   "source": [
    "help(tokenizer.train)"
   ]
  },
  {
   "cell_type": "markdown",
   "id": "934fa572",
   "metadata": {},
   "source": [
    "### Tokenize test docs\n",
    "#### Pretty good results"
   ]
  },
  {
   "cell_type": "code",
   "execution_count": 100,
   "id": "afc0f996",
   "metadata": {},
   "outputs": [
    {
     "name": "stdout",
     "output_type": "stream",
     "text": [
      "['horn', '/', 'har', 'dart', '<', 'h', 'o', 'r', '>', 'unit', 'dispose', 's', '33', 'restaurant', 's', 'las', 've', 'gas', ',', 'n', 'e', 'v', '.', ',', 'apri', 'l', '1', '-', 'horn', 'and', 'har', 'dart', 'co', 'said', 'it', 'dispose', 'd', 'of', '33', 'b', 'o', 'j', 'angle', 's', \"'\", 'chicken', \"'\", 'n', 'bisc', 'u', 'its', 'restaurant', 's', 'in', 'flori', 'd', 'a', 'a', 's', 'part', 'of', 'its', 'previous', 'ly', 'announce', 'd', 're', 't', 'rench', 'ment', 'of', 'its', 'b', 'o', 'j', 'angle', 's', \"'\", 'subsidiar', 'y', '.', 'term', 's', 'were', 'not', 'disclose', 'd', '.', 'the', 'company', 'said', 'the', 'restaurant', 's', 'in', 'o', 'rland', 'o', ',', 't', 'ampa', 'and', 'jackson', 'ville', 'market', 's', 'have', 'incurr', 'ed', 'the', 'major', 'ity', 'of', 'b', 'o', 'j', 'angle', 's', \"'\", 'operat', 'ing', 'losse', 's', 'over', 'the', 'last', 'two', 'year', 's', '.', 'due', 'to', 'the', 'transaction', ',', 'horn', 'and', 'har', 'dart', 'i', 's', 'project', 'ing', 'a', 'positive', 'cash', 'flow', 'for', 'the', 'unit', 'for', 'the', 'remain', 'der', 'of', 'fiscal', '198', '7', '.', 'a', 'spokesm', 'an', 'said', 'the', 'disposition', 'consist', 's', 'of', 'a', 'combination', 'of', 'sale', ',', 'lease', 'and', 're', '-', 'franchise', 'agreement', 's', '.', 'the', 'transaction', 'involve', 's', 'one', '-', 'quarter', 'of', 'the', 'company', '-', 'own', 'ed', 'b', 'o', 'j', 'angle', 's', \"'\", 'restaurant', 's', 'and', 'i', 's', 'in', 'accord', 'ance', 'with', 'its', 'restructuring', 'program', 'announce', 'd', 'in', 'octo', 'ber', '198', '6', '.', 'a', 'spokesm', 'an', 'said', 'the', 'company', 'i', 's', 'consider', 'ing', 'the', 'sale', 'o', 'r', 's', 'p', 'in', 'off', 'of', 'the', '91', '-', 'company', 'own', 'ed', 'additional', 'restaurant', 's', ',', 'which', 'are', 'profit', 'able', '.', 'the', 'company', 'said', 'the', 'disposition', 'will', 'result', 'in', 'n', 'o', 'profit', 'o', 'r', 'loss', 'for', 'the', 'company', 'be', 'cause', 'the', 'cost', 's', 'were', 'anticipate', 'd', 'in', 'a', '34', '-', 'mln', '-', 'dlr', 'reserve', 'take', 'n', 'in', 'the', 'third', 'quarter', 'of', '198', '6', '.', 'the', 'food', 'service', 'division', ',', 'which', 'include', 's', 'burge', 'r', 'king', ',', 'a', 'r', 'by', \"'\", 's', 'and', 'ton', 'y', 'rom', 'a', \"'\", 's', ',', 'had', 'a', 'pre', '-', 'tax', 'operat', 'ing', 'loss', 'of', '29', '.', '6', 'mln', 'dlrs', 'in', '198', '6', ',', 'includ', 'ing', 'the', '34', '.', '0', 'mln', 'dlr', 'charge', 'to', 'restructure', 'b', 'o', 'j', 'angle', 's', '.', 'exclud', 'ing', 'b', 'o', 'j', 'angle', 's', \"'\", ',', 'the', 'group', 'had', 'revenue', 's', 'of', '43', '.', '8', 'mln', 'dlrs', '.', 'the', 'company', 'said', 'that', ',', 'pursu', 'an', 't', 'to', 'the', 'restructuring', ',', 'it', 'has', 'cut', 'general', 'and', 'administrative', 'expense', 's', 'attribut', 'able', 'to', 'b', 'o', 'j', 'angle', \"'\", 'by', '35', 'pc', 't', '.']\n",
      "['chemical', 'fabric', 's', '<', 'c', 'm', 'f', 'b', '>', 'agreement', 'terminate', 'd', 'm', 'e', 'w', 'rrim', 'ack', ',', 'n', '.', 'h', '.', ',', 'apri', 'l', '1', '-', 'chemical', 'fabric', 's', 'corp', 'said', 'an', 'agreement', 'in', 'principle', 'under', 'which', 'o', 'c', 'bird', 'air', 'inc', 'would', 'have', 'purchase', 'd', 'asset', 's', 'relate', 'd', 'to', 'the', 'architectur', 'al', 'structure', 's', 'business', 'of', 'dow', 'corn', 'ing', 'corp', \"'\", 's', 'o', 'd', 'c', 'inc', 'division', 'has', 'bee', 'n', 'terminate', 'd', '.', 'under', 'that', 'agreement', ',', 'chemical', 'fabric', 's', 'would', 'als', 'o', 'have', 'become', 'distributor', 'of', 'dow', 'corn', 'ing', \"'\", 's', 've', 'star', 's', 'ilico', 'n', 'e', '-', 'co', 'ated', 'fiber', 'glass', 'archi', 't', 'e', 'c', 'ural', 'fabric', 's', '.', 'o', 'c', 'bird', 'air', 'i', 's', 'a', 'joint', 'venture', 'of', 'chemical', 'fabric', 's', 'and', 'owens', 'corn', 'ing', 'fiber', 'glas', 'corp', '<', 'o', 'c', 'f', '>', 'and', 'down', 'corn', 'ing', 'a', 'venture', 'of', 'dow', 'chemical', 'co', '<', 'dow', '>', 'and', 'corn', 'ing', 'glass', 'work', 's', '<', 'g', 'l', 'w', '>', '.', 'chemical', 'fabric', 's', 'said', 'once', 'the', 'current', 'project', 'back', 'log', 'of', 'dow', 'corn', 'ing', \"'\", 's', 'o', 'd', 'c', 'division', 'i', 's', 'complete', 'd', ',', 'dow', 'corn', 'ing', 'plan', 's', 'to', 'discontinue', 'its', 'design', '-', 'engineer', 'ing', ',', 'fabric', 'ation', 'and', 'installation', 'service', 's', '.', 'chemical', 'fabric', 's', 'said', 'the', 'companie', 's', 'will', 'cooperate', 'on', 'the', 'development', 'of', 'new', 'product', 's', 'for', 'architectur', 'al', 'and', 'industrial', 'application', 's', 'and', 'may', 'supply', 'architectur', 'al', 'material', 's', 'to', 'each', 'other', '.']\n",
      "['s', 'i', 's', '<', 's', 'i', 's', 'b', '>', 'complete', 's', 'wend', 'y', \"'\", 's', '<', 'we', 'n', '>', 'unit', 'buy', 'west', 'lake', ',', 'o', 'h', 'i', 'o', ',', 'apri', 'l', '1', '-', 's', 'i', 's', 'corp', 'said', 'it', 'has', 'complete', 'd', 'the', 'acquisition', 'of', 'its', 'franc', 'his', 'o', 'r', 's', 'i', 'ster', 's', 'international', 'inc', 'from', 'wend', 'y', \"'\", 's', 'international', 'inc', 'for', '14', '.', '5', 'mln', 'dlrs', 'in', 'stock', '.', 'it', 'said', 'the', 'purchase', 'include', 's', '35', 'restaurant', 's', 'in', 'o', 'h', 'i', 'o', 'operate', 's', 'by', 's', 'i', 'ster', 's', ',', 'giving', 's', 'i', 's', 'a', 'total', 'of', '55', 'restaurant', 's', ',', 'and', 'franchise', 'relationship', 's', 'in', 'six', 'mid', 'western', 'and', 'southern', 'state', 's', '.']\n",
      "['canadian', 'tire', 'major', 'holders', 'not', 'extend', 'ing', 'pact', 't', 'oron', 'to', ',', 'apri', 'l', '1', '-', 'ct', 'c', 'dealer', 'holding', 's', 'l', 't', 'd', 'said', '<', 'canadian', 'tire', 'corp', 'l', 't', 'd', '>', 'controll', 'ing', 'shareholders', 'alfred', ',', 'david', 'and', 'mar', 'th', 'a', 'bill', 'e', 's', 'did', 'not', 'extend', 'an', 'agreement', 'expir', 'ing', 'yesterday', 'to', 'tender', 'their', 'shares', 'on', 'ly', 'to', 'ct', 'c', \"'\", 's', 'previous', 'ly', 'reported', 'offer', 'for', '49', 'pc', 't', 'of', 'canadian', 'tire', 'common', 'shares', '.', 'ct', 'c', ',', 'which', 'al', 'read', 'y', 'hold', 's', '17', '.', '4', 'pc', 't', 'of', 'canadian', 'tire', 'common', ',', 'said', 'it', 'would', 'there', 'for', 'e', 'not', 'take', 'up', 'any', 'shares', 'tender', 'ed', 'under', 'its', 'offer', 'unle', 's', 's', 'the', 'y', 'total', 'ed', 'a', 't', 'leas', 't', '1', '.', '1', 'mln', 'o', 'r', 'an', 'other', '32', '.', '7', 'pc', 't', 'of', 'canadian', 'tire', 'common', '.', 'the', 'bill', 'e', 's', 'control', '60', 'pc', 't', 'of', 'canadian', 'tire', 'common', '.', 'it', 'adde', 'd', 'that', 'it', 'extend', 'ed', 'its', 'offer', 'to', 'may', '11', 'a', 't', 'a', 'fixe', 'd', 'price', 'of', '165', '.', '36', 'dlrs', 'a', 'share', '.', 'ct', 'c', ',', 'a', 'group', 'of', 'canadian', 'tire', 'dealers', ',', 'said', 'it', 'expected', 'to', 'know', 'by', 'may', '11', 'i', 'f', 'it', 'would', 'obtain', 'approval', 'to', 'appeal', 'a', 'previous', 'ly', 'reported', 'on', 't', 'ario', 'court', 'ruling', 'up', 'holding', 'a', 'regulator', 'y', 'decision', 'to', 'block', 'ct', 'c', \"'\", 's', 'offer', '.', 'the', 'dealers', \"'\", 'bid', 'was', 'previous', 'ly', 'block', 'ed', 'by', 'the', 'on', 't', 'ario', 'securit', 'ies', 'commission', 'be', 'cause', 'the', 'offer', 'exclude', 'd', 'holders', 'of', 'canadian', 'tire', 'class', 'a', 'n', 'on', '-', 'votin', 'g', 'shares', ',', 'which', 'make', 'up', 'about', '96', 'pc', 't', 'of', 'company', 'equit', 'y', '.']\n",
      "['hutt', 'on', 'l', 'b', 'o', 'extend', 's', 'expiration', 'for', '35', 'dlr', '/', 'shr', 'offer', 'for', 'pur', 'olator', 'to', 'apri', 'l', '6', 'from', 'today', '#', '3', ';']\n",
      "['conrac', 'say', 's', 'it', 'i', 's', 'mull', 'ing', 'restructuring', 'o', 'r', 'buyout', 'a', 's', 'alternative', 's', '#', '3', ';']\n",
      "['conrac', '<', 'c', 'ax', '>', 'explor', 'ing', 'restructuring', ',', 'buyout', 'washing', 'ton', ',', 'apri', 'l', '1', '-', 'conrac', 'corp', ',', 'who', 's', 'e', 'board', 'has', 'reject', 'ed', 'a', '25', 'dlr', 'a', 'share', 'tender', 'offer', 'from', 'mark', 'i', 'v', 'industrie', 's', 'inc', '<', 'i', 'v', '>', ',', 'said', 'it', 'i', 's', 'explor', 'ing', 'alternative', 's', 'such', 'a', 's', 'a', 'restructuring', ',', 'leverage', 'd', 'buyout', 'o', 'r', 'takeover', 'of', 'the', 'company', '.', 'in', 'a', 'filing', 'with', 'the', 'securit', 'ies', 'and', 'exchange', 'commission', ',', 'conrac', 'said', 'its', 'board', 'of', 'director', 's', 'authorize', 'd', 'its', 'financial', 'and', 'legal', 'advisor', 's', 'to', 'explore', 'a', 'several', 'alternative', 's', 'to', 'the', 'mark', 'i', 'v', 'offer', ',', 'which', 'it', 'said', 'it', 'consider', 's', 'in', 'adequate', '.', 'the', 'alternative', 's', 'be', 'ing', 'explor', 'ed', 'include', 'a', 'restructuring', ',', 'leverage', 'd', 'buyout', 'o', 'r', 'a', 'takeover', 'of', 'the', 'company', 'by', 'an', 'other', 'company', ',', 'conrac', 'said', '.', 'conrac', ',', 'which', 'said', 'its', 'board', 'discuss', 'ed', 'the', 'alternative', 's', 'a', 't', 'special', 'meeting', 's', 'on', 'march', '26', 'and', '30', ',', 'said', 'that', 'its', 'decision', 'on', 'whe', 'the', 'r', 'to', 'adopt', 'any', 'of', 'the', 'alternative', 's', 'would', 'h', 'ing', 'e', 'on', '\"', 'the', 'future', 'action', 's', 'of', 'mark', 'i', 'v', '\"', 'and', 'its', 'u', 'n', 'solicit', 'i', 'ed', 'tender', 'offer', '.', 'put', 't', 'ing', 'in', 'to', 'effect', 'any', 'of', 'the', 'alternative', 's', 'be', 'ing', 'explor', 'ed', 'could', 'hurt', 'o', 'r', 'defeat', 'the', 'mark', 'i', 'v', 'offer', ',', 'it', 'said', '.', 'board', 'members', 'were', 'als', 'o', 'instruct', 'ed', 'to', 'keep', 'confidential', 'the', 'term', 's', 'of', 'any', 'transaction', 'that', 'm', 'ight', 'be', 'enter', 'ed', 'in', 'to', 'unti', 'l', 'it', 'become', 's', 'final', ',', 'the', 'company', 'said', '.', 'the', 'board', 'als', 'o', 't', 'ook', 'other', 'defens', 'ive', 'step', 's', ',', 'includ', 'ing', 'grant', 'ing', 's', 'ever', 'ance', 'agreement', 's', 'to', 'some', 'officer', 's', ',', 'it', 'said', '.', 'a', 't', 'a', 'board', 'meeting', 'yesterday', ',', 'conc', 'a', 'c', \"'\", 's', 'director', 's', 'del', 'e', 't', 'ed', 'a', 'provision', 'allow', 'ing', 'the', 'holder', 'of', 'a', 't', 'leas', 't', 'one', '-', 'third', 'of', 'of', 'all', 'class', 'e', 's', 'of', 'its', 'votin', 'g', 'stock', 'to', 'call', 'a', 'special', 'shareholders', 'meeting', 'and', 'del', 'e', 't', 'ed', 'an', 'other', 'provision', 'allow', 'ing', 'shareholders', 'to', 'remove', 'director', 's', 'with', 'out', 'cause', ',', 'the', 'company', 'said', '.', 'the', 'defens', 'ive', 'move', 's', 'were', 'take', 'n', 'be', 'cause', 'mark', 'i', 'v', 'had', 'said', 'it', 'planne', 'd', 'to', 'elect', 'a', 'major', 'ity', 'of', 'its', 'designe', 'e', 's', 'a', 's', 'director', 's', 'a', 't', 'a', 'special', 'holders', 'meeting', 'i', 'f', 'it', 'succeed', 'ed', 'in', 'acq', 'uring', 'a', 'major', 'ity', 'of', 'the', 'company', \"'\", 's', 'common', 'stock', 'in', 'the', 'offer', ',', 'conrac', 'said', '.', 'conrac', \"'\", 's', 'president', ',', 'vice', 'president', 'and', 'treasurer', 'were', 'given', 's', 'ever', 'ance', 'agreement', 's', ',', 'o', 'r', '\"', 'golden', 'par', 'a', 'chu', 't', 'e', 's', ',', '\"', 'it', 'said', '.', 'under', 'the', 'agreement', 's', ',', 'conrac', 'president', 'paul', 'gra', 'f', 'would', 'get', 'a', 'cash', 'payment', 'of', 'twic', 'e', 'his', 'annual', 's', 'al', 'ary', ',', 'which', 'was', '20', '9', ',', '90', '6', 'dlrs', 'last', 'year', ',', 'i', 'f', 'there', 'were', 'a', 'change', 'of', 'control', 'in', 'the', 'company', ',', 'includ', 'ing', 'acquisition', 'of', '30', 'pc', 't', 'o', 'r', 'more', 'of', 'the', 'company', \"'\", 's', 'votin', 'g', 'stock', ',', 'conrac', 'said', '.', 'treasurer', 'joseph', 's', 'mor', 'a', 'd', 'a', 'and', 'vice', 'president', 'joseph', 'o', \"'\", 'd', 'o', 'nnell', ',', 'who', 'made', '143', ',', '3', '25', 'dlrs', 'last', 'year', ',', 'would', 'get', 'one', '-', 'and', '-', 'a', '-', 'half', 'time', 's', 'his', 's', 'al', 'ary', 'i', 'f', 'there', 'were', 'a', 'change', 'in', 'control', '.', 's', 'mor', 'a', 'd', 'a', \"'\", 's', 's', 'al', 'ary', 'was', 'not', 'liste', 'd', 'in', 'the', 's', 'e', 'c', 'filing', '.', 'the', 'executive', 's', 'would', 'als', 'o', 'get', 'cash', 'settlement', 's', 'of', 'option', 's', 'plan', 's', 'and', 'continu', 'ation', 'of', 'insurance', 'and', 'other', 'benefit', 's', '.']\n",
      "['e', '.', 'f', '.', 'hutt', 'on', '<', 'e', 'f', 'h', '>', 'extend', 's', 'pur', 'olator', '<', 'pc', 'c', '>', 'offer', 'new', 'york', ',', 'apri', 'l', '1', '-', 'e', '.', 'f', '.', 'hutt', 'on', 'group', \"'\", 's', 'e', '.', 'f', '.', 'hutt', 'on', 'l', 'b', 'o', 'inc', 'unit', 'said', 'it', 'extend', 'ed', 'the', 'expiration', 'date', 'for', 'its', '35', 'dlr', 'per', 'share', 'tender', 'offer', 'for', 'pur', 'olator', 'co', 'urie', 'r', 'corp', 'to', 'mid', 'night', 'e', 's', 't', 'apri', 'l', 'six', 'from', 'mid', 'night', 'apri', 'l', 'one', '.', 'e', '.', 'f', '.', 'hutt', 'on', 'l', 'b', 'o', 'inc', 'said', 'its', 'w', 'holly', 'own', 'ed', 'pc', 'acquisition', 'inc', 'subsidiar', 'y', ',', 'which', 'i', 's', 'the', 'entit', 'y', 'mak', 'ing', 'the', 'offer', ',', 'extend', 'ed', 'both', 'expiration', 'date', 'and', 'the', 'withdrawal', 'rights', 'period', 'for', 'its', 'pend', 'ing', 'tender', 'for', '6', '.', '3', 'mln', 'shares', 'o', 'r', '83', 'pc', 't', 'of', 'pur', 'olator', 'common', '.', 'hutt', 'on', \"'\", 's', 'offer', 'was', 'topp', 'ed', 'today', 'by', 'a', '40', 'dlr', 'per', 'share', 'bid', 'for', '83', 'pc', 't', 'of', 'the', 'stock', 'from', 'emery', 'air', 'fri', 'e', 'g', 'h', 't', 'corp', '<', 'e', 'a', 'f', '.', '>', 'both', 'offer', 's', 'would', 'pay', 'shareholders', 'a', 'package', 'of', 'securit', 'ies', 'for', 'the', 'balance', 'of', 'their', 'shares', ',', 'value', 'd', 'a', 't', 'the', 'respective', 'tender', 'offer', 'price', 's', '.', 'hutt', 'on', 'said', 'a', 's', 'of', 'the', 'end', 'of', 'the', 'day', 'yesterday', ',', 'about', '8', '80', ',', '000', 'shares', 'of', 'pur', 'olator', 'common', 'stock', 'rep', 'e', 'sent', 'ing', '11', '.', '5', 'pc', 't', 'of', 'outstanding', 'shares', 'had', 'bee', 'n', 'valid', 'ly', 'tender', 'ed', 'and', 'not', 'withdraw', 'n', '.', 'man', 'hattan', 's', 'u', 'prem', 'e', 'court', 'justice', 'lewis', 'gross', 'man', 'today', 'adjourn', 'ed', 'unti', 'l', 'monda', 'y', 'a', 'hearing', 'on', 'a', 'stockholder', 'suit', 'seek', 'ing', 'to', 'block', 'the', 'hutt', 'on', 'l', 'b', 'o', 'transaction', '.', 'the', 'judge', 't', 'old', 'attorney', 's', 'he', 'need', 'ed', 'time', 'to', 'hear', 'other', 'case', 's', '.', 'plaintiff', 's', 'cite', 'd', 'their', 'belie', 'f', 'that', 'a', 'superior', 'offer', 'would', 'be', 'for', 'th', 'coming', ',', 'how', 'ever', 'one', 'company', 'mention', 'ed', 'in', 'an', 'a', 'f', 'f', 'a', 'd', 'a', 'v', 'it', ',', 'inter', 'link', 'express', 'p', 'l', 'c', ',', 'denie', 'd', 'that', 'it', 'was', 'interest', 'ed', '.', 'yesterday', ',', 'frank', 'h', 'o', 'e', 'n', 'e', 'meyer', ',', 'a', 'retire', 'd', 'vice', 'chairman', 'of', 'prudent', 'ial', 'insurance', 'co', 'and', 'current', 'ly', 'a', 'pur', 'olator', 'board', 'member', ',', 'said', 'an', 'initial', 'offer', 'from', 'hutt', 'on', 'was', 'reject', 'ed', 'by', 'the', 'board', 'of', 'director', 's', 'febru', 'ary', 'third', '.', 'h', 'o', 'e', 'n', 'e', 'meyer', 'testif', 'i', 'ed', 'that', 'by', 'the', 'nex', 't', 'meeting', 'of', 'the', 'board', ',', 'febru', 'ary', '17', ',', 'hutt', 'on', 'submitt', 'ed', 'a', 'revise', 'd', 'proposal', 'which', 'was', 'accept', 'ed', '.', 'he', 'als', 'o', 'testif', 'i', 'ed', 'a', 'committee', 'of', 'director', 's', 'had', 'hire', 'd', 'gold', 'man', 'sach', 's', 'and', 'co', 'to', 'consider', 'alternative', 's', 'to', 'the', 'hutt', 'on', 'offer', 'and', 'als', 'o', 'to', 'consider', 'a', 'discussion', 'of', 'possibl', 'e', 'merger', 's', 'with', 'other', 'companie', 's', 'includ', 'ing', 'emery', 'and', 'federal', 'express', 'corp', '<', 'f', 'd', 'x', '>', '.']\n",
      "['a', 'u', 'simon', 't', 'comp', 'o', '<', 'a', 'u', 's', '>', 'sells', 'unit', 'walt', 'ham', ',', 'mass', '.', ',', 'apri', 'l', '1', '-', 'a', 'u', 'simon', 't', 'comp', 'o', 'n', 'v', 'said', 'it', 'has', 'sold', 'the', 'asset', 's', 'of', 'its', 'equip', 'ment', 'and', 'machine', 'ry', 'division', 'for', 'about', 'six', 'mln', 'dlrs', 'to', 'an', 'investment', 'group', 'includ', 'ing', 'the', 'unit', \"'\", 's', 'management', ',', 'result', 'ing', 'in', 'a', 'modest', 'pre', 'tax', 'gain', 'that', 'will', 'be', 'include', 'd', 'in', 'first', 'quarter', 'result', 's', '.', 'the', 'unit', 'had', 'sales', 'of', 'fiv', 'e', 'mln', 'dlrs', 'in', '198', '6', '.']\n",
      "['atlantic', 'research', '<', 'a', 't', 'r', 'c', '>', 'complete', 's', 'acquisition', 'alexand', 'r', 'i', 'a', ',', 'v', 'a', '.', ',', 'apri', 'l', '1', '-', 'atlantic', 'research', 'corp', 'said', 'it', 'has', 'complete', 'd', 'the', 'acquisition', 'of', 'professional', 'service', 's', 'firm', 'o', 'r', 'i', 'group', 'for', '1', ',', '4', '14', ',', '31', '3', 'common', 'shares', 'on', 'a', 'pool', 'ing', 'of', 'interest', 's', 'basi', 's', '.']\n"
     ]
    }
   ],
   "source": [
    "for doc in testing_docs[:10]:\n",
    "    with open(doc) as file:\n",
    "        print(tokenizer.encode(file.read()).tokens)"
   ]
  },
  {
   "cell_type": "code",
   "execution_count": 58,
   "id": "c15c3aa3",
   "metadata": {},
   "outputs": [],
   "source": [
    "import random"
   ]
  },
  {
   "cell_type": "code",
   "execution_count": 59,
   "id": "e74345fe",
   "metadata": {},
   "outputs": [
    {
     "data": {
      "text/plain": [
       "[1, 2, 5]"
      ]
     },
     "execution_count": 59,
     "metadata": {},
     "output_type": "execute_result"
    }
   ],
   "source": [
    "random.sample([5,1,2,3,4], k=3)"
   ]
  },
  {
   "cell_type": "code",
   "execution_count": 60,
   "id": "581c3533",
   "metadata": {},
   "outputs": [
    {
     "name": "stdout",
     "output_type": "stream",
     "text": [
      "\n",
      "\n",
      "COMPUTER TERMINAL SYSTEMS <CPML> COMPLETES SALE\n",
      "\n",
      "     COMMACK, N.Y., Feb 26 - Computer Terminal Systems Inc said\n",
      "it has completed the sale of 200,000 shares of its common\n",
      "stock, and warrants to acquire an additional one mln shares, to\n",
      "<Sedio N.V.> of Lugano, Switzerland for 50,000 dlrs.\n",
      "    The company said the warrants are exercisable for five\n",
      "years at a purchase price of .125 dlrs per share.\n",
      "    Computer Terminal said Sedio also has the right to buy\n",
      "additional shares and increase its total holdings up to 40 pct\n",
      "of the Computer Terminal's outstanding common stock under\n",
      "certain circumstances involving change of control at the\n",
      "company.\n",
      "    The company said if the conditions occur the warrants would\n",
      "be exercisable at a price equal to 75 pct of its common stock's\n",
      "market price at the time, not to exceed 1.50 dlrs per share.\n",
      "    Computer Terminal also said it sold the technolgy rights to\n",
      "its Dot Matrix impact technology, including any future\n",
      "improvements, to <Woodco Inc> of Houston, Tex. for 200,000\n",
      "dlrs. But, it said it would continue to be the exclusive\n",
      "worldwide licensee of the technology for Woodco.\n",
      "    The company said the moves were part of its reorganization\n",
      "plan and would help pay current operation costs and ensure\n",
      "product delivery.\n",
      "    Computer Terminal makes computer generated labels, forms,\n",
      "tags and ticket printers and terminals.\n",
      "\n",
      "\n"
     ]
    }
   ],
   "source": [
    "with open(f\"training/acq/0000005\", 'r') as file:\n",
    "    print(file.read())"
   ]
  },
  {
   "cell_type": "code",
   "execution_count": 61,
   "id": "dc4ab6c9",
   "metadata": {},
   "outputs": [],
   "source": [
    "x = \"\"\"\n",
    "\n",
    "INVESTMENT FIRMS CUT CYCLOPS <CYL> STAKE\n",
    "\n",
    "    WASHINGTON, Feb 26 - A group of affiliated New York\n",
    "investment firms said they lowered their stake in Cyclops Corp\n",
    "to 260,500 shares, or 6.4 pct of the total outstanding common\n",
    "stock, from 370,500 shares, or 9.2 pct.\n",
    "    In a filing with the Securities and Exchange Commission,\n",
    "the group, led by Mutual Shares Corp, said it sold 110,000\n",
    "Cyclops common shares on Feb 17 and 19 for 10.0 mln dlrs.\n",
    "\n",
    "\"\"\""
   ]
  },
  {
   "cell_type": "code",
   "execution_count": 62,
   "id": "3a1ad880",
   "metadata": {},
   "outputs": [
    {
     "data": {
      "text/plain": [
       "'\\n\\nINVESTMENT FIRMS CUT CYCLOPS <CYL> STAKE\\n\\n    WASHINGTON, Feb  - A group of affiliated New York\\ninvestment firms said they lowered their stake in Cyclops Corp\\nto , shares, or . pct of the total outstanding common\\nstock, from , shares, or . pct.\\n    In a filing with the Securities and Exchange Commission,\\nthe group, led by Mutual Shares Corp, said it sold ,\\nCyclops common shares on Feb  and  for . mln dlrs.\\n\\n'"
      ]
     },
     "execution_count": 62,
     "metadata": {},
     "output_type": "execute_result"
    }
   ],
   "source": [
    "re.sub(\"\\d{1,}\", \"\", x)"
   ]
  },
  {
   "cell_type": "code",
   "execution_count": 63,
   "id": "57dc7e27",
   "metadata": {},
   "outputs": [
    {
     "data": {
      "text/plain": [
       "'  INVESTMENT FIRMS CUT CYCLOPS <CYL> STAKE      WASHINGTON, Feb 26 - A group of affiliated New York investment firms said they lowered their stake in Cyclops Corp toshares, orpct of the total outstanding common stock, fromshares, orpct.     In a filing with the Securities and Exchange Commission, the group, led by Mutual Shares Corp, said it sold 110,000 Cyclops common shares on Feb 17 and 19 formln dlrs.  '"
      ]
     },
     "execution_count": 63,
     "metadata": {},
     "output_type": "execute_result"
    }
   ],
   "source": [
    "y = '\\n\\nINVESTMENT FIRMS CUT CYCLOPS <CYL> STAKE\\n\\n    WASHINGTON, Feb 26 - A group of affiliated New York\\ninvestment firms said they lowered their stake in Cyclops Corp\\ntoshares, orpct of the total outstanding common\\nstock, fromshares, orpct.\\n    In a filing with the Securities and Exchange Commission,\\nthe group, led by Mutual Shares Corp, said it sold 110,000\\nCyclops common shares on Feb 17 and 19 formln dlrs.\\n\\n'\n",
    "re.sub('\\n', ' ', y)"
   ]
  },
  {
   "cell_type": "code",
   "execution_count": 64,
   "id": "2856b437",
   "metadata": {},
   "outputs": [
    {
     "name": "stdout",
     "output_type": "stream",
     "text": [
      "Help on built-in function pre_tokenize:\n",
      "\n",
      "pre_tokenize(self, pretok) method of tokenizers.pre_tokenizers.Sequence instance\n",
      "    Pre-tokenize a :class:`~tokenizers.PyPreTokenizedString` in-place\n",
      "    \n",
      "    This method allows to modify a :class:`~tokenizers.PreTokenizedString` to\n",
      "    keep track of the pre-tokenization, and leverage the capabilities of the\n",
      "    :class:`~tokenizers.PreTokenizedString`. If you just want to see the result of\n",
      "    the pre-tokenization of a raw string, you can use\n",
      "    :meth:`~tokenizers.pre_tokenizers.PreTokenizer.pre_tokenize_str`\n",
      "    \n",
      "    Args:\n",
      "        pretok (:class:`~tokenizers.PreTokenizedString):\n",
      "            The pre-tokenized string on which to apply this\n",
      "            :class:`~tokenizers.pre_tokenizers.PreTokenizer`\n",
      "\n"
     ]
    }
   ],
   "source": [
    "help(pre_tokenizer.pre_tokenize)"
   ]
  },
  {
   "cell_type": "code",
   "execution_count": 65,
   "id": "ed0e4275",
   "metadata": {},
   "outputs": [
    {
     "name": "stdout",
     "output_type": "stream",
     "text": [
      "program  :  program\n",
      "beginning  :  begin\n",
      "programmer  :  programm\n",
      "programming  :  program\n",
      "programmers  :  programm\n"
     ]
    }
   ],
   "source": [
    "# import these modules\n",
    "from nltk.stem import PorterStemmer\n",
    "from nltk.tokenize import word_tokenize\n",
    " \n",
    "ps = PorterStemmer()\n",
    " \n",
    "# choose some words to be stemmed\n",
    "words = [\"program\", \"beginning\", \"programmer\", \"programming\", \"programmers\"]\n",
    " \n",
    "for w in words:\n",
    "    print(w, \" : \", ps.stem(w))"
   ]
  },
  {
   "cell_type": "code",
   "execution_count": null,
   "id": "3ea0a175",
   "metadata": {},
   "outputs": [],
   "source": []
  },
  {
   "cell_type": "code",
   "execution_count": null,
   "id": "541c4f15",
   "metadata": {},
   "outputs": [],
   "source": []
  }
 ],
 "metadata": {
  "kernelspec": {
   "display_name": "Python 3 (ipykernel)",
   "language": "python",
   "name": "python3"
  },
  "language_info": {
   "codemirror_mode": {
    "name": "ipython",
    "version": 3
   },
   "file_extension": ".py",
   "mimetype": "text/x-python",
   "name": "python",
   "nbconvert_exporter": "python",
   "pygments_lexer": "ipython3",
   "version": "3.11.5"
  }
 },
 "nbformat": 4,
 "nbformat_minor": 5
}
