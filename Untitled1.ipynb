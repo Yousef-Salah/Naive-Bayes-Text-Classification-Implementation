{
 "cells": [
  {
   "cell_type": "code",
   "execution_count": 6,
   "id": "775a5fd3",
   "metadata": {},
   "outputs": [],
   "source": [
    "import numpy as np"
   ]
  },
  {
   "cell_type": "code",
   "execution_count": 7,
   "id": "e6651720",
   "metadata": {},
   "outputs": [
    {
     "name": "stdout",
     "output_type": "stream",
     "text": [
      "[1 2 3 4 5]\n",
      "<class 'numpy.ndarray'>\n",
      "1\n"
     ]
    }
   ],
   "source": [
    "arr = np.array([1, 2, 3, 4, 5])\n",
    "\n",
    "print(arr)\n",
    "print(type(arr))  # numpy.ndarray\n",
    "print(arr.ndim)"
   ]
  },
  {
   "cell_type": "code",
   "execution_count": 8,
   "id": "e4de3378",
   "metadata": {},
   "outputs": [
    {
     "name": "stdout",
     "output_type": "stream",
     "text": [
      "40\n",
      "<class 'numpy.ndarray'>\n",
      "0\n"
     ]
    }
   ],
   "source": [
    "import numpy as np\n",
    "\n",
    "arr = np.array(40)\n",
    "\n",
    "print(arr)\n",
    "print(type(arr))\n",
    "print(arr.ndim)\n"
   ]
  },
  {
   "cell_type": "code",
   "execution_count": 9,
   "id": "68d3e030",
   "metadata": {},
   "outputs": [
    {
     "name": "stdout",
     "output_type": "stream",
     "text": [
      "3\n"
     ]
    }
   ],
   "source": [
    "arr_2d = np.array([[[1,2,3], [4,5,6]]])\n",
    "print(arr_2d.ndim)"
   ]
  },
  {
   "cell_type": "code",
   "execution_count": 10,
   "id": "f792bc15",
   "metadata": {},
   "outputs": [
    {
     "data": {
      "text/plain": [
       "[[[1, 2, 3], [4, 5, 6]]]"
      ]
     },
     "execution_count": 10,
     "metadata": {},
     "output_type": "execute_result"
    }
   ],
   "source": [
    "[[[1,2,3], [4,5,6]]]"
   ]
  },
  {
   "cell_type": "code",
   "execution_count": 11,
   "id": "d9e53612",
   "metadata": {},
   "outputs": [
    {
     "data": {
      "text/plain": [
       "array([[0., 0., 0., 0., 0., 0.],\n",
       "       [0., 0., 0., 0., 0., 0.],\n",
       "       [0., 0., 0., 0., 0., 0.]])"
      ]
     },
     "execution_count": 11,
     "metadata": {},
     "output_type": "execute_result"
    }
   ],
   "source": [
    "# rows \n",
    "np.zeros((3, 6))"
   ]
  },
  {
   "cell_type": "code",
   "execution_count": 12,
   "id": "b253cfbd",
   "metadata": {},
   "outputs": [
    {
     "data": {
      "text/plain": [
       "array([   10,    11,    12, ..., 49997, 49998, 49999])"
      ]
     },
     "execution_count": 12,
     "metadata": {},
     "output_type": "execute_result"
    }
   ],
   "source": [
    "np.arange(10,50000)"
   ]
  },
  {
   "cell_type": "code",
   "execution_count": 13,
   "id": "a743ff37",
   "metadata": {},
   "outputs": [
    {
     "data": {
      "text/plain": [
       "array([[1., 0., 0.],\n",
       "       [0., 1., 0.],\n",
       "       [0., 0., 1.]])"
      ]
     },
     "execution_count": 13,
     "metadata": {},
     "output_type": "execute_result"
    }
   ],
   "source": [
    "np.eye(3)"
   ]
  },
  {
   "cell_type": "code",
   "execution_count": 14,
   "id": "b35891a6",
   "metadata": {},
   "outputs": [
    {
     "data": {
      "text/plain": [
       "array([1., 1., 1., 1., 1., 1., 1., 1., 1., 1.])"
      ]
     },
     "execution_count": 14,
     "metadata": {},
     "output_type": "execute_result"
    }
   ],
   "source": [
    "np.ones(10)"
   ]
  },
  {
   "cell_type": "code",
   "execution_count": 15,
   "id": "28f4d44c",
   "metadata": {},
   "outputs": [
    {
     "data": {
      "text/plain": [
       "array([ 0,  1,  2,  3,  4,  5,  6,  7,  8,  9, 10])"
      ]
     },
     "execution_count": 15,
     "metadata": {},
     "output_type": "execute_result"
    }
   ],
   "source": [
    "arr = np.arange(11)\n",
    "arr"
   ]
  },
  {
   "cell_type": "code",
   "execution_count": 16,
   "id": "10db7e69",
   "metadata": {},
   "outputs": [
    {
     "data": {
      "text/plain": [
       "10"
      ]
     },
     "execution_count": 16,
     "metadata": {},
     "output_type": "execute_result"
    }
   ],
   "source": [
    "arr[-1]"
   ]
  },
  {
   "cell_type": "code",
   "execution_count": 17,
   "id": "dd286622",
   "metadata": {},
   "outputs": [
    {
     "data": {
      "text/plain": [
       "array([[ 1,  2,  3, 55],\n",
       "       [ 4,  5,  6,  7],\n",
       "       [44, 55, 66, 77]])"
      ]
     },
     "execution_count": 17,
     "metadata": {},
     "output_type": "execute_result"
    }
   ],
   "source": [
    "arr = np.array([[1,2,3, 55], [4,5,6, 7], [44,55,66, 77]])\n",
    "arr"
   ]
  },
  {
   "cell_type": "code",
   "execution_count": 18,
   "id": "107edefa",
   "metadata": {},
   "outputs": [
    {
     "data": {
      "text/plain": [
       "1"
      ]
     },
     "execution_count": 18,
     "metadata": {},
     "output_type": "execute_result"
    }
   ],
   "source": [
    "arr[0, 0]"
   ]
  },
  {
   "cell_type": "code",
   "execution_count": 19,
   "id": "cad96317",
   "metadata": {},
   "outputs": [
    {
     "data": {
      "text/plain": [
       "array([], shape=(0, 4), dtype=int32)"
      ]
     },
     "execution_count": 19,
     "metadata": {},
     "output_type": "execute_result"
    }
   ],
   "source": [
    "arr[4:9]"
   ]
  },
  {
   "cell_type": "code",
   "execution_count": 20,
   "id": "893908f4",
   "metadata": {},
   "outputs": [
    {
     "data": {
      "text/plain": [
       "array([[ 5,  6,  7],\n",
       "       [55, 66, 77]])"
      ]
     },
     "execution_count": 20,
     "metadata": {},
     "output_type": "execute_result"
    }
   ],
   "source": [
    "arr[1:, 1:]"
   ]
  },
  {
   "cell_type": "code",
   "execution_count": 21,
   "id": "17367e34",
   "metadata": {},
   "outputs": [
    {
     "data": {
      "text/plain": [
       "array([20, 22, 24, 26, 28, 30, 32, 34, 36, 38, 40, 42, 44, 46, 48])"
      ]
     },
     "execution_count": 21,
     "metadata": {},
     "output_type": "execute_result"
    }
   ],
   "source": [
    "arr = np.arange(10, 50)\n",
    "arr[10::2]"
   ]
  },
  {
   "cell_type": "code",
   "execution_count": 22,
   "id": "8a9d3790",
   "metadata": {},
   "outputs": [
    {
     "name": "stdout",
     "output_type": "stream",
     "text": [
      "[10 11 12 13 14 15 16 17 18 19 20 21 22 23 24 25 26 27 28 29 30 31 32 33\n",
      " 34 35 36 37 38 39 40 41 42 43 44 45 46 47 48 49]\n"
     ]
    }
   ],
   "source": [
    "print(arr)"
   ]
  },
  {
   "cell_type": "code",
   "execution_count": 23,
   "id": "7c017bf2",
   "metadata": {},
   "outputs": [
    {
     "name": "stdout",
     "output_type": "stream",
     "text": [
      "int32\n"
     ]
    }
   ],
   "source": [
    "import numpy as np\n",
    "\n",
    "arr = np.array([1, 2, 3, 4], dtype='i')\n",
    "\n",
    "print(arr.dtype)"
   ]
  },
  {
   "cell_type": "code",
   "execution_count": 24,
   "id": "49e8a94e",
   "metadata": {},
   "outputs": [
    {
     "name": "stdout",
     "output_type": "stream",
     "text": [
      "[1 2 3 4]\n",
      "int32\n"
     ]
    }
   ],
   "source": [
    "arr2 = np.array([1, 2, 3, 4], dtype='i')\n",
    "print(arr2)\n",
    "print(arr2.dtype)\n",
    "\n",
    "# the following statement raise an error\n",
    "# arr3 = np.array(['a', '2', '3'], dtype='i') "
   ]
  },
  {
   "cell_type": "code",
   "execution_count": 25,
   "id": "7c24e719",
   "metadata": {},
   "outputs": [
    {
     "data": {
      "text/plain": [
       "array([False,  True,  True,  True])"
      ]
     },
     "execution_count": 25,
     "metadata": {},
     "output_type": "execute_result"
    }
   ],
   "source": [
    "arr2 = np.array([1, 2, 3, 4], dtype='i')\n",
    "arr2[0] = 0\n",
    "arr2.astype(bool)"
   ]
  },
  {
   "cell_type": "code",
   "execution_count": 26,
   "id": "cdd3d876",
   "metadata": {},
   "outputs": [],
   "source": [
    "arr3 = arr2[1:]"
   ]
  },
  {
   "cell_type": "code",
   "execution_count": 27,
   "id": "6fe69005",
   "metadata": {},
   "outputs": [
    {
     "data": {
      "text/plain": [
       "array([0, 2, 3, 4], dtype=int32)"
      ]
     },
     "execution_count": 27,
     "metadata": {},
     "output_type": "execute_result"
    }
   ],
   "source": [
    "arr3.base"
   ]
  },
  {
   "cell_type": "code",
   "execution_count": 28,
   "id": "a0aa05d2",
   "metadata": {},
   "outputs": [
    {
     "ename": "SyntaxError",
     "evalue": "invalid syntax (4161917592.py, line 1)",
     "output_type": "error",
     "traceback": [
      "\u001b[1;36m  Cell \u001b[1;32mIn[28], line 1\u001b[1;36m\u001b[0m\n\u001b[1;33m    ------>\u001b[0m\n\u001b[1;37m         ^\u001b[0m\n\u001b[1;31mSyntaxError\u001b[0m\u001b[1;31m:\u001b[0m invalid syntax\n"
     ]
    }
   ],
   "source": [
    "------>\n",
    "start:end:step\n",
    "1:6:2\n",
    "1:2\n",
    ":\n",
    "_:_:_"
   ]
  },
  {
   "cell_type": "code",
   "execution_count": 29,
   "id": "b2f83ece",
   "metadata": {},
   "outputs": [],
   "source": [
    "import pandas as pd"
   ]
  },
  {
   "cell_type": "code",
   "execution_count": 30,
   "id": "cc0d99fb",
   "metadata": {},
   "outputs": [
    {
     "data": {
      "text/html": [
       "<div>\n",
       "<style scoped>\n",
       "    .dataframe tbody tr th:only-of-type {\n",
       "        vertical-align: middle;\n",
       "    }\n",
       "\n",
       "    .dataframe tbody tr th {\n",
       "        vertical-align: top;\n",
       "    }\n",
       "\n",
       "    .dataframe thead th {\n",
       "        text-align: right;\n",
       "    }\n",
       "</style>\n",
       "<table border=\"1\" class=\"dataframe\">\n",
       "  <thead>\n",
       "    <tr style=\"text-align: right;\">\n",
       "      <th></th>\n",
       "      <th>0</th>\n",
       "      <th>1</th>\n",
       "      <th>2</th>\n",
       "      <th>3</th>\n",
       "      <th>4</th>\n",
       "      <th>5</th>\n",
       "      <th>6</th>\n",
       "      <th>7</th>\n",
       "      <th>8</th>\n",
       "      <th>9</th>\n",
       "      <th>...</th>\n",
       "      <th>291</th>\n",
       "      <th>292</th>\n",
       "      <th>293</th>\n",
       "      <th>294</th>\n",
       "      <th>295</th>\n",
       "      <th>296</th>\n",
       "      <th>297</th>\n",
       "      <th>298</th>\n",
       "      <th>299</th>\n",
       "      <th>300</th>\n",
       "    </tr>\n",
       "  </thead>\n",
       "  <tbody>\n",
       "    <tr>\n",
       "      <th>0</th>\n",
       "      <td>the</td>\n",
       "      <td>0.046560</td>\n",
       "      <td>0.213180</td>\n",
       "      <td>-0.007436</td>\n",
       "      <td>-0.458540</td>\n",
       "      <td>-0.035639</td>\n",
       "      <td>0.236430</td>\n",
       "      <td>-0.288360</td>\n",
       "      <td>0.215210</td>\n",
       "      <td>-0.134860</td>\n",
       "      <td>...</td>\n",
       "      <td>-0.013064</td>\n",
       "      <td>-0.296860</td>\n",
       "      <td>-0.079913</td>\n",
       "      <td>0.195000</td>\n",
       "      <td>0.031549</td>\n",
       "      <td>0.285060</td>\n",
       "      <td>-0.087461</td>\n",
       "      <td>0.009061</td>\n",
       "      <td>-0.209890</td>\n",
       "      <td>0.053913</td>\n",
       "    </tr>\n",
       "    <tr>\n",
       "      <th>1</th>\n",
       "      <td>,</td>\n",
       "      <td>-0.255390</td>\n",
       "      <td>-0.257230</td>\n",
       "      <td>0.131690</td>\n",
       "      <td>-0.042688</td>\n",
       "      <td>0.218170</td>\n",
       "      <td>-0.022702</td>\n",
       "      <td>-0.178540</td>\n",
       "      <td>0.107560</td>\n",
       "      <td>0.058936</td>\n",
       "      <td>...</td>\n",
       "      <td>0.075968</td>\n",
       "      <td>-0.014359</td>\n",
       "      <td>-0.073794</td>\n",
       "      <td>0.221760</td>\n",
       "      <td>0.146520</td>\n",
       "      <td>0.566860</td>\n",
       "      <td>0.053307</td>\n",
       "      <td>-0.232900</td>\n",
       "      <td>-0.122260</td>\n",
       "      <td>0.354990</td>\n",
       "    </tr>\n",
       "    <tr>\n",
       "      <th>2</th>\n",
       "      <td>.</td>\n",
       "      <td>-0.125590</td>\n",
       "      <td>0.013630</td>\n",
       "      <td>0.103060</td>\n",
       "      <td>-0.101230</td>\n",
       "      <td>0.098128</td>\n",
       "      <td>0.136270</td>\n",
       "      <td>-0.107210</td>\n",
       "      <td>0.236970</td>\n",
       "      <td>0.328700</td>\n",
       "      <td>...</td>\n",
       "      <td>0.060148</td>\n",
       "      <td>-0.156190</td>\n",
       "      <td>-0.119490</td>\n",
       "      <td>0.234450</td>\n",
       "      <td>0.081367</td>\n",
       "      <td>0.246180</td>\n",
       "      <td>-0.152420</td>\n",
       "      <td>-0.342240</td>\n",
       "      <td>-0.022394</td>\n",
       "      <td>0.136840</td>\n",
       "    </tr>\n",
       "    <tr>\n",
       "      <th>3</th>\n",
       "      <td>of</td>\n",
       "      <td>-0.076947</td>\n",
       "      <td>-0.021211</td>\n",
       "      <td>0.212710</td>\n",
       "      <td>-0.722320</td>\n",
       "      <td>-0.139880</td>\n",
       "      <td>-0.122340</td>\n",
       "      <td>-0.175210</td>\n",
       "      <td>0.121370</td>\n",
       "      <td>-0.070866</td>\n",
       "      <td>...</td>\n",
       "      <td>-0.366730</td>\n",
       "      <td>-0.386030</td>\n",
       "      <td>0.302900</td>\n",
       "      <td>0.015747</td>\n",
       "      <td>0.340360</td>\n",
       "      <td>0.478410</td>\n",
       "      <td>0.068617</td>\n",
       "      <td>0.183510</td>\n",
       "      <td>-0.291830</td>\n",
       "      <td>-0.046533</td>\n",
       "    </tr>\n",
       "    <tr>\n",
       "      <th>4</th>\n",
       "      <td>to</td>\n",
       "      <td>-0.257560</td>\n",
       "      <td>-0.057132</td>\n",
       "      <td>-0.671900</td>\n",
       "      <td>-0.380820</td>\n",
       "      <td>-0.364210</td>\n",
       "      <td>-0.082155</td>\n",
       "      <td>-0.010955</td>\n",
       "      <td>-0.082047</td>\n",
       "      <td>0.460560</td>\n",
       "      <td>...</td>\n",
       "      <td>-0.012806</td>\n",
       "      <td>-0.597070</td>\n",
       "      <td>0.317340</td>\n",
       "      <td>-0.252670</td>\n",
       "      <td>0.543840</td>\n",
       "      <td>0.063007</td>\n",
       "      <td>-0.049795</td>\n",
       "      <td>-0.160430</td>\n",
       "      <td>0.046744</td>\n",
       "      <td>-0.070621</td>\n",
       "    </tr>\n",
       "    <tr>\n",
       "      <th>...</th>\n",
       "      <td>...</td>\n",
       "      <td>...</td>\n",
       "      <td>...</td>\n",
       "      <td>...</td>\n",
       "      <td>...</td>\n",
       "      <td>...</td>\n",
       "      <td>...</td>\n",
       "      <td>...</td>\n",
       "      <td>...</td>\n",
       "      <td>...</td>\n",
       "      <td>...</td>\n",
       "      <td>...</td>\n",
       "      <td>...</td>\n",
       "      <td>...</td>\n",
       "      <td>...</td>\n",
       "      <td>...</td>\n",
       "      <td>...</td>\n",
       "      <td>...</td>\n",
       "      <td>...</td>\n",
       "      <td>...</td>\n",
       "      <td>...</td>\n",
       "    </tr>\n",
       "    <tr>\n",
       "      <th>399994</th>\n",
       "      <td>chanty</td>\n",
       "      <td>0.392700</td>\n",
       "      <td>-0.022505</td>\n",
       "      <td>0.304580</td>\n",
       "      <td>0.187990</td>\n",
       "      <td>0.141180</td>\n",
       "      <td>0.724030</td>\n",
       "      <td>-0.257810</td>\n",
       "      <td>-0.137290</td>\n",
       "      <td>-0.016521</td>\n",
       "      <td>...</td>\n",
       "      <td>-0.182950</td>\n",
       "      <td>0.406630</td>\n",
       "      <td>-0.343630</td>\n",
       "      <td>-0.270400</td>\n",
       "      <td>-0.593680</td>\n",
       "      <td>0.016447</td>\n",
       "      <td>0.140740</td>\n",
       "      <td>0.463940</td>\n",
       "      <td>-0.369570</td>\n",
       "      <td>-0.287180</td>\n",
       "    </tr>\n",
       "    <tr>\n",
       "      <th>399995</th>\n",
       "      <td>kronik</td>\n",
       "      <td>0.136790</td>\n",
       "      <td>-0.139090</td>\n",
       "      <td>-0.360890</td>\n",
       "      <td>0.079864</td>\n",
       "      <td>0.321490</td>\n",
       "      <td>0.263870</td>\n",
       "      <td>-0.109900</td>\n",
       "      <td>0.044420</td>\n",
       "      <td>0.083869</td>\n",
       "      <td>...</td>\n",
       "      <td>0.036419</td>\n",
       "      <td>-0.036845</td>\n",
       "      <td>-0.348150</td>\n",
       "      <td>0.064732</td>\n",
       "      <td>-0.000577</td>\n",
       "      <td>-0.133790</td>\n",
       "      <td>0.428960</td>\n",
       "      <td>-0.023320</td>\n",
       "      <td>0.410210</td>\n",
       "      <td>-0.393080</td>\n",
       "    </tr>\n",
       "    <tr>\n",
       "      <th>399996</th>\n",
       "      <td>rolonda</td>\n",
       "      <td>0.075713</td>\n",
       "      <td>-0.040502</td>\n",
       "      <td>0.183450</td>\n",
       "      <td>0.512300</td>\n",
       "      <td>-0.228560</td>\n",
       "      <td>0.839110</td>\n",
       "      <td>0.178780</td>\n",
       "      <td>-0.713010</td>\n",
       "      <td>0.326900</td>\n",
       "      <td>...</td>\n",
       "      <td>-0.388530</td>\n",
       "      <td>0.545850</td>\n",
       "      <td>-0.035050</td>\n",
       "      <td>-0.184360</td>\n",
       "      <td>-0.197000</td>\n",
       "      <td>-0.350030</td>\n",
       "      <td>0.160650</td>\n",
       "      <td>0.218380</td>\n",
       "      <td>0.309670</td>\n",
       "      <td>0.437610</td>\n",
       "    </tr>\n",
       "    <tr>\n",
       "      <th>399997</th>\n",
       "      <td>zsombor</td>\n",
       "      <td>0.814510</td>\n",
       "      <td>-0.362210</td>\n",
       "      <td>0.311860</td>\n",
       "      <td>0.813810</td>\n",
       "      <td>0.188520</td>\n",
       "      <td>-0.313600</td>\n",
       "      <td>0.827840</td>\n",
       "      <td>0.296560</td>\n",
       "      <td>-0.085519</td>\n",
       "      <td>...</td>\n",
       "      <td>0.130880</td>\n",
       "      <td>0.106120</td>\n",
       "      <td>-0.408110</td>\n",
       "      <td>0.313380</td>\n",
       "      <td>-0.430250</td>\n",
       "      <td>0.069798</td>\n",
       "      <td>-0.207690</td>\n",
       "      <td>0.075486</td>\n",
       "      <td>0.284080</td>\n",
       "      <td>-0.175590</td>\n",
       "    </tr>\n",
       "    <tr>\n",
       "      <th>399998</th>\n",
       "      <td>sandberger</td>\n",
       "      <td>0.429191</td>\n",
       "      <td>-0.296897</td>\n",
       "      <td>0.150110</td>\n",
       "      <td>0.245201</td>\n",
       "      <td>-0.003520</td>\n",
       "      <td>-0.057697</td>\n",
       "      <td>0.140900</td>\n",
       "      <td>-0.222294</td>\n",
       "      <td>0.221153</td>\n",
       "      <td>...</td>\n",
       "      <td>0.128146</td>\n",
       "      <td>0.097552</td>\n",
       "      <td>-0.130981</td>\n",
       "      <td>-0.142839</td>\n",
       "      <td>-0.175458</td>\n",
       "      <td>-0.168996</td>\n",
       "      <td>-0.022512</td>\n",
       "      <td>0.289750</td>\n",
       "      <td>0.326180</td>\n",
       "      <td>-0.059053</td>\n",
       "    </tr>\n",
       "  </tbody>\n",
       "</table>\n",
       "<p>399999 rows × 301 columns</p>\n",
       "</div>"
      ],
      "text/plain": [
       "               0         1         2         3         4         5    \\\n",
       "0              the  0.046560  0.213180 -0.007436 -0.458540 -0.035639   \n",
       "1                , -0.255390 -0.257230  0.131690 -0.042688  0.218170   \n",
       "2                . -0.125590  0.013630  0.103060 -0.101230  0.098128   \n",
       "3               of -0.076947 -0.021211  0.212710 -0.722320 -0.139880   \n",
       "4               to -0.257560 -0.057132 -0.671900 -0.380820 -0.364210   \n",
       "...            ...       ...       ...       ...       ...       ...   \n",
       "399994      chanty  0.392700 -0.022505  0.304580  0.187990  0.141180   \n",
       "399995      kronik  0.136790 -0.139090 -0.360890  0.079864  0.321490   \n",
       "399996     rolonda  0.075713 -0.040502  0.183450  0.512300 -0.228560   \n",
       "399997     zsombor  0.814510 -0.362210  0.311860  0.813810  0.188520   \n",
       "399998  sandberger  0.429191 -0.296897  0.150110  0.245201 -0.003520   \n",
       "\n",
       "             6         7         8         9    ...       291       292  \\\n",
       "0       0.236430 -0.288360  0.215210 -0.134860  ... -0.013064 -0.296860   \n",
       "1      -0.022702 -0.178540  0.107560  0.058936  ...  0.075968 -0.014359   \n",
       "2       0.136270 -0.107210  0.236970  0.328700  ...  0.060148 -0.156190   \n",
       "3      -0.122340 -0.175210  0.121370 -0.070866  ... -0.366730 -0.386030   \n",
       "4      -0.082155 -0.010955 -0.082047  0.460560  ... -0.012806 -0.597070   \n",
       "...          ...       ...       ...       ...  ...       ...       ...   \n",
       "399994  0.724030 -0.257810 -0.137290 -0.016521  ... -0.182950  0.406630   \n",
       "399995  0.263870 -0.109900  0.044420  0.083869  ...  0.036419 -0.036845   \n",
       "399996  0.839110  0.178780 -0.713010  0.326900  ... -0.388530  0.545850   \n",
       "399997 -0.313600  0.827840  0.296560 -0.085519  ...  0.130880  0.106120   \n",
       "399998 -0.057697  0.140900 -0.222294  0.221153  ...  0.128146  0.097552   \n",
       "\n",
       "             293       294       295       296       297       298       299  \\\n",
       "0      -0.079913  0.195000  0.031549  0.285060 -0.087461  0.009061 -0.209890   \n",
       "1      -0.073794  0.221760  0.146520  0.566860  0.053307 -0.232900 -0.122260   \n",
       "2      -0.119490  0.234450  0.081367  0.246180 -0.152420 -0.342240 -0.022394   \n",
       "3       0.302900  0.015747  0.340360  0.478410  0.068617  0.183510 -0.291830   \n",
       "4       0.317340 -0.252670  0.543840  0.063007 -0.049795 -0.160430  0.046744   \n",
       "...          ...       ...       ...       ...       ...       ...       ...   \n",
       "399994 -0.343630 -0.270400 -0.593680  0.016447  0.140740  0.463940 -0.369570   \n",
       "399995 -0.348150  0.064732 -0.000577 -0.133790  0.428960 -0.023320  0.410210   \n",
       "399996 -0.035050 -0.184360 -0.197000 -0.350030  0.160650  0.218380  0.309670   \n",
       "399997 -0.408110  0.313380 -0.430250  0.069798 -0.207690  0.075486  0.284080   \n",
       "399998 -0.130981 -0.142839 -0.175458 -0.168996 -0.022512  0.289750  0.326180   \n",
       "\n",
       "             300  \n",
       "0       0.053913  \n",
       "1       0.354990  \n",
       "2       0.136840  \n",
       "3      -0.046533  \n",
       "4      -0.070621  \n",
       "...          ...  \n",
       "399994 -0.287180  \n",
       "399995 -0.393080  \n",
       "399996  0.437610  \n",
       "399997 -0.175590  \n",
       "399998 -0.059053  \n",
       "\n",
       "[399999 rows x 301 columns]"
      ]
     },
     "execution_count": 30,
     "metadata": {},
     "output_type": "execute_result"
    }
   ],
   "source": [
    "df = pd.read_csv('final project/pretrained_models\\glove.6B.300d.txt', delimiter=' ', header=None)\n",
    "df"
   ]
  },
  {
   "cell_type": "code",
   "execution_count": 31,
   "id": "32311ce7",
   "metadata": {},
   "outputs": [],
   "source": [
    "df.columns = ['text'] + list(range(1, 301))"
   ]
  },
  {
   "cell_type": "code",
   "execution_count": 32,
   "id": "f3fac3da",
   "metadata": {},
   "outputs": [
    {
     "data": {
      "text/plain": [
       "text     object\n",
       "1       float64\n",
       "2       float64\n",
       "3       float64\n",
       "4       float64\n",
       "         ...   \n",
       "296     float64\n",
       "297     float64\n",
       "298     float64\n",
       "299     float64\n",
       "300     float64\n",
       "Length: 301, dtype: object"
      ]
     },
     "execution_count": 32,
     "metadata": {},
     "output_type": "execute_result"
    }
   ],
   "source": [
    "df.dtypes"
   ]
  },
  {
   "cell_type": "code",
   "execution_count": 33,
   "id": "3a4e0bc1",
   "metadata": {},
   "outputs": [
    {
     "data": {
      "text/plain": [
       "3.2582"
      ]
     },
     "execution_count": 33,
     "metadata": {},
     "output_type": "execute_result"
    }
   ],
   "source": [
    "df.drop(['text'], axis=1).max().max()"
   ]
  },
  {
   "cell_type": "code",
   "execution_count": 34,
   "id": "de762c8e",
   "metadata": {},
   "outputs": [
    {
     "data": {
      "text/plain": [
       "-3.0639"
      ]
     },
     "execution_count": 34,
     "metadata": {},
     "output_type": "execute_result"
    }
   ],
   "source": [
    "df.drop(['text'], axis=1).min().min()"
   ]
  },
  {
   "cell_type": "code",
   "execution_count": 35,
   "id": "88ace222",
   "metadata": {},
   "outputs": [
    {
     "name": "stdout",
     "output_type": "stream",
     "text": [
      "showing info https://raw.githubusercontent.com/nltk/nltk_data/gh-pages/index.xml\n"
     ]
    },
    {
     "name": "stderr",
     "output_type": "stream",
     "text": [
      "<frozen runpy>:128: RuntimeWarning: 'nltk.downloader' found in sys.modules after import of package 'nltk', but prior to execution of 'nltk.downloader'; this may result in unpredictable behaviour\n"
     ]
    }
   ],
   "source": [
    "!python -m nltk.downloader\n"
   ]
  },
  {
   "cell_type": "code",
   "execution_count": 36,
   "id": "95fdd528",
   "metadata": {},
   "outputs": [
    {
     "name": "stdout",
     "output_type": "stream",
     "text": [
      "rocks : office\n",
      "corpora : corpus\n",
      "better : good\n"
     ]
    }
   ],
   "source": [
    "from nltk.stem import WordNetLemmatizer\n",
    " \n",
    "lemmatizer = WordNetLemmatizer()\n",
    " \n",
    "print(\"rocks :\", lemmatizer.lemmatize(\"office\"))\n",
    "print(\"corpora :\", lemmatizer.lemmatize(\"corpora\"))\n",
    " \n",
    "# a denotes adjective in \"pos\"\n",
    "print(\"better :\", lemmatizer.lemmatize(\"better\", pos=\"a\"))\n"
   ]
  },
  {
   "cell_type": "code",
   "execution_count": 37,
   "id": "99ce6dbd",
   "metadata": {},
   "outputs": [
    {
     "ename": "ImportError",
     "evalue": "cannot import name 'stop_words' from 'sklearn.feature_extraction' (C:\\Users\\Youski\\anaconda3\\Lib\\site-packages\\sklearn\\feature_extraction\\__init__.py)",
     "output_type": "error",
     "traceback": [
      "\u001b[1;31m---------------------------------------------------------------------------\u001b[0m",
      "\u001b[1;31mImportError\u001b[0m                               Traceback (most recent call last)",
      "Cell \u001b[1;32mIn[37], line 6\u001b[0m\n\u001b[0;32m      4\u001b[0m \u001b[38;5;28;01mfrom\u001b[39;00m \u001b[38;5;21;01mnltk\u001b[39;00m\u001b[38;5;21;01m.\u001b[39;00m\u001b[38;5;21;01mcorpus\u001b[39;00m \u001b[38;5;28;01mimport\u001b[39;00m brown\n\u001b[0;32m      5\u001b[0m \u001b[38;5;28;01mfrom\u001b[39;00m \u001b[38;5;21;01mmittens\u001b[39;00m \u001b[38;5;28;01mimport\u001b[39;00m GloVe, Mittens\n\u001b[1;32m----> 6\u001b[0m \u001b[38;5;28;01mfrom\u001b[39;00m \u001b[38;5;21;01msklearn\u001b[39;00m\u001b[38;5;21;01m.\u001b[39;00m\u001b[38;5;21;01mfeature_extraction\u001b[39;00m \u001b[38;5;28;01mimport\u001b[39;00m stop_words\n\u001b[0;32m      7\u001b[0m \u001b[38;5;28;01mfrom\u001b[39;00m \u001b[38;5;21;01msklearn\u001b[39;00m\u001b[38;5;21;01m.\u001b[39;00m\u001b[38;5;21;01mfeature_extraction\u001b[39;00m\u001b[38;5;21;01m.\u001b[39;00m\u001b[38;5;21;01mtext\u001b[39;00m \u001b[38;5;28;01mimport\u001b[39;00m CountVectorizer\n\u001b[0;32m     10\u001b[0m \u001b[38;5;28;01mdef\u001b[39;00m \u001b[38;5;21mglove2dict\u001b[39m(glove_filename):\n",
      "\u001b[1;31mImportError\u001b[0m: cannot import name 'stop_words' from 'sklearn.feature_extraction' (C:\\Users\\Youski\\anaconda3\\Lib\\site-packages\\sklearn\\feature_extraction\\__init__.py)"
     ]
    }
   ],
   "source": [
    "import csv\n",
    "import numpy as np\n",
    "from collections import Counter\n",
    "from nltk.corpus import brown\n",
    "from mittens import GloVe, Mittens\n",
    "from sklearn.feature_extraction import stop_words\n",
    "from sklearn.feature_extraction.text import CountVectorizer\n",
    "\n",
    "\n",
    "def glove2dict(glove_filename):\n",
    "    with open(glove_filename, encoding='utf-8') as f:\n",
    "        reader = csv.reader(f, delimiter=' ', quoting=csv.QUOTE_NONE)\n",
    "        embed = {line[0]: np.array(list(map(float, line[1:])))\n",
    "                for line in reader}\n",
    "    return embed\n",
    "\n",
    "glove_path = \"final project/pretrained_models/glove.6B.300d.txt\" # get it from https://nlp.stanford.edu/projects/glove\n",
    "pre_glove = glove2dict(glove_path)\n",
    "\n",
    "sw = list(stop_words.ENGLISH_STOP_WORDS)\n",
    "brown_data = brown.words()[:200000]\n",
    "brown_nonstop = [token.lower() for token in brown_data if (token.lower() not in sw)]\n",
    "oov = [token for token in brown_nonstop if token not in pre_glove.keys()]\n",
    "\n",
    "def get_rareoov(xdict, val):\n",
    "    return [k for (k,v) in Counter(xdict).items() if v<=val]\n",
    "\n",
    "#oov_rare = get_rareoov(oov, 1)\n",
    "#corp_vocab = list(set(oov) - set(oov_rare))\n",
    "#brown_tokens = [token for token in brown_nonstop if token not in oov_rare]\n",
    "#brown_doc = [' '.join(brown_tokens)]\n",
    "\n",
    "corp_vocab = list(set(oov))\n",
    "brown_doc = [' '.join(brown_nonstop)]\n",
    "\n",
    "cv = CountVectorizer(ngram_range=(1,1), vocabulary=corp_vocab)\n",
    "X = cv.fit_transform(brown_doc)\n",
    "Xc = (X.T * X)\n",
    "Xc.setdiag(0)\n",
    "coocc_ar = Xc.toarray()\n",
    "\n",
    "mittens_model = Mittens(n=50, max_iter=1000)\n",
    "\n",
    "new_embeddings = mittens_model.fit(\n",
    "    coocc_ar,\n",
    "    vocab=corp_vocab,\n",
    "    initial_embedding_dict= pre_glove)\n",
    "\n",
    "newglove = dict(zip(corp_vocab, new_embeddings))\n",
    "f = open(\"repo_glove.pkl\",\"wb\")\n",
    "pickle.dump(newglove, f)\n",
    "f.close()"
   ]
  },
  {
   "cell_type": "code",
   "execution_count": null,
   "id": "65a777ee",
   "metadata": {},
   "outputs": [],
   "source": [
    "! pip install mittens"
   ]
  },
  {
   "cell_type": "code",
   "execution_count": 38,
   "id": "b129c3b8",
   "metadata": {},
   "outputs": [],
   "source": [
    "import pandas as pd"
   ]
  },
  {
   "cell_type": "code",
   "execution_count": 41,
   "id": "013c1bef",
   "metadata": {},
   "outputs": [],
   "source": [
    "from gensim.test.utils import common_texts\n",
    "from gensim.models import Word2Vec\n",
    "\n",
    "model = Word2Vec(sentences=common_texts, vector_size=300, window=5, min_count=1, workers=4)\n",
    "model.save(\"word2vec.model\")"
   ]
  },
  {
   "cell_type": "code",
   "execution_count": null,
   "id": "6f3427b2",
   "metadata": {},
   "outputs": [
    {
     "name": "stderr",
     "output_type": "stream",
     "text": [
      "Exception in thread Thread-61 (_worker_loop):\n",
      "Traceback (most recent call last):\n",
      "  File \"C:\\Users\\Youski\\anaconda3\\Lib\\threading.py\", line 1038, in _bootstrap_inner\n",
      "    self.run()\n",
      "  File \"C:\\Users\\Youski\\anaconda3\\Lib\\threading.py\", line 975, in run\n",
      "    self._target(*self._args, **self._kwargs)\n",
      "  File \"C:\\Users\\Youski\\anaconda3\\Lib\\site-packages\\gensim\\models\\word2vec.py\", line 1166, in _worker_loop\n",
      "    tally, raw_tally = self._do_train_job(data_iterable, alpha, thread_private_mem)\n",
      "                       ^^^^^^^^^^^^^^^^^^^^^^^^^^^^^^^^^^^^^^^^^^^^^^^^^^^^^^^^^^^^\n",
      "  File \"C:\\Users\\Youski\\anaconda3\\Lib\\site-packages\\gensim\\models\\word2vec.py\", line 957, in _do_train_job\n",
      "    tally += train_batch_cbow(self, sentences, alpha, work, neu1, self.compute_loss)\n",
      "             ^^^^^^^^^^^^^^^^^^^^^^^^^^^^^^^^^^^^^^^^^^^^^^^^^^^^^^^^^^^^^^^^^^^^^^^\n",
      "  File \"gensim\\models\\word2vec_inner.pyx\", line 638, in gensim.models.word2vec_inner.train_batch_cbow\n",
      "  File \"C:\\Users\\Youski\\anaconda3\\Lib\\site-packages\\pandas\\core\\generic.py\", line 1466, in __nonzero__\n",
      "    raise ValueError(\n",
      "ValueError: The truth value of a DataFrame is ambiguous. Use a.empty, a.bool(), a.item(), a.any() or a.all().\n"
     ]
    }
   ],
   "source": [
    "model = Word2Vec.load(\"word2vec.model\")\n",
    "model.train([pd.read_json('final project/training.json')[['text']]], total_examples=1, epochs=1)\n"
   ]
  },
  {
   "cell_type": "code",
   "execution_count": null,
   "id": "55f4a8bc",
   "metadata": {},
   "outputs": [],
   "source": [
    "model.wv('the')"
   ]
  },
  {
   "cell_type": "code",
   "execution_count": null,
   "id": "41ea521e",
   "metadata": {},
   "outputs": [],
   "source": [
    "model.save(\"word2vec.model\")"
   ]
  },
  {
   "cell_type": "code",
   "execution_count": null,
   "id": "10d2f1f0",
   "metadata": {},
   "outputs": [],
   "source": []
  },
  {
   "cell_type": "code",
   "execution_count": null,
   "id": "d39b0430",
   "metadata": {},
   "outputs": [],
   "source": []
  }
 ],
 "metadata": {
  "kernelspec": {
   "display_name": "Python 3 (ipykernel)",
   "language": "python",
   "name": "python3"
  },
  "language_info": {
   "codemirror_mode": {
    "name": "ipython",
    "version": 3
   },
   "file_extension": ".py",
   "mimetype": "text/x-python",
   "name": "python",
   "nbconvert_exporter": "python",
   "pygments_lexer": "ipython3",
   "version": "3.11.5"
  }
 },
 "nbformat": 4,
 "nbformat_minor": 5
}
